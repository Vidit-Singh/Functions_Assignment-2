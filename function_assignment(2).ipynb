{
 "cells": [
  {
   "cell_type": "markdown",
   "id": "53045e90-61cb-49bf-b9cd-5d2e17ff6f38",
   "metadata": {},
   "source": [
    "# Q1. Create a python program to sort the given list of tuples based on integer value using a lambda function. [('Sachin Tendulkar', 34357), ('Ricky Ponting', 27483), ('Jack Kallis', 25534), ('Virat Kohli', 24936)]"
   ]
  },
  {
   "cell_type": "code",
   "execution_count": 3,
   "id": "10d96d58-a058-4725-bb8f-c54abd532b55",
   "metadata": {},
   "outputs": [
    {
     "name": "stdout",
     "output_type": "stream",
     "text": [
      "('Virat Kohli', 24936)\n",
      "('Jack Kallis', 25534)\n",
      "('Ricky Ponting', 27483)\n",
      "('Sachin Tendulkar', 34357)\n"
     ]
    }
   ],
   "source": [
    "# Given list of tuples\n",
    "lst = [('Sachin Tendulkar', 34357), ('Ricky Ponting', 27483), ('Jack Kallis', 25534), ('Virat Kohli', 24936)]\n",
    "\n",
    "# Sorting the list using integer value using lamda function:\n",
    "sorted_list = sorted(lst,key=lambda x:x[1])\n",
    "#sorted(iterable, /, *, key=None, reverse=False)\n",
    "#sorted() function return a new list containing all items from the iterable in ascending order.\n",
    "\n",
    "# Displaying the sorted list\n",
    "for i in sorted_list:\n",
    "    print(i)"
   ]
  },
  {
   "cell_type": "code",
   "execution_count": null,
   "id": "6748ea1e-40e7-4501-b20e-327fcfa3a01c",
   "metadata": {},
   "outputs": [],
   "source": []
  },
  {
   "cell_type": "markdown",
   "id": "3ac7313d-0baa-446e-aa36-24f84e3e426a",
   "metadata": {},
   "source": [
    "# Q2. Write a Python Program to find the squares of all the numbers in the given list of integers using lambda and map functions. [1, 2, 3, 4, 5, 6, 7, 8, 9, 10]"
   ]
  },
  {
   "cell_type": "code",
   "execution_count": 6,
   "id": "52e4953c-5264-4a2d-b576-98d066a21b56",
   "metadata": {},
   "outputs": [
    {
     "data": {
      "text/plain": [
       "[1, 4, 9, 16, 25, 36, 49, 64, 81, 100]"
      ]
     },
     "execution_count": 6,
     "metadata": {},
     "output_type": "execute_result"
    }
   ],
   "source": [
    "# Given list:\n",
    "lst = [1, 2, 3, 4, 5, 6, 7, 8, 9, 10]\n",
    "# Using one-liner lambda function\n",
    "sq = lambda i: i**2\n",
    "# Using map function to map the lambda function with the iterables\n",
    "map(sq,lst)\n",
    "list(map(sq,lst))"
   ]
  },
  {
   "cell_type": "code",
   "execution_count": null,
   "id": "ecd37ecb-80ca-46a1-9d0e-29208880e8c4",
   "metadata": {},
   "outputs": [],
   "source": []
  },
  {
   "cell_type": "markdown",
   "id": "088bc714-cd25-4989-8325-6dd888c59a55",
   "metadata": {},
   "source": [
    "# Q3. Write a python program to convert the given list of integers into a tuple of strings. Use map and lambda functions. Given String: [1, 2, 3, 4, 5, 6, 7, 8, 9, 10]"
   ]
  },
  {
   "cell_type": "code",
   "execution_count": 12,
   "id": "cefbe73c-da3e-4675-b3fb-98528698b594",
   "metadata": {},
   "outputs": [
    {
     "data": {
      "text/plain": [
       "('1', '2', '3', '4', '5', '6', '7', '8', '9', '10')"
      ]
     },
     "execution_count": 12,
     "metadata": {},
     "output_type": "execute_result"
    }
   ],
   "source": [
    "# Given list:\n",
    "lst = [1, 2, 3, 4, 5, 6, 7, 8, 9, 10]\n",
    "\n",
    "# Creating a lambda function\n",
    "str_tuple = lambda x: str(x)\n",
    "\n",
    "# Mapping the lambda function with the iterable list\n",
    "tuple(map(str_tuple,lst))\n",
    "\n"
   ]
  },
  {
   "cell_type": "code",
   "execution_count": null,
   "id": "ac03e304-d533-4ed8-9213-8fd36e7ec46b",
   "metadata": {},
   "outputs": [],
   "source": []
  },
  {
   "cell_type": "markdown",
   "id": "8d4a6cae-9ccc-47fd-9bf7-e746e217ac29",
   "metadata": {},
   "source": [
    "# Q4. Write a python program using reduce function to compute the product of a list containing numbers from 1 to 25."
   ]
  },
  {
   "cell_type": "code",
   "execution_count": 2,
   "id": "b430b059-3601-40cc-a305-4c03002bd36a",
   "metadata": {},
   "outputs": [
    {
     "name": "stdout",
     "output_type": "stream",
     "text": [
      "Product:  15511210043330985984000000\n"
     ]
    }
   ],
   "source": [
    "from functools import reduce\n",
    "\n",
    "# Creating a list of numbers\n",
    "numbers = list(range(1,26))\n",
    "\n",
    "# Using reduce function to get the product of the list\n",
    "product = reduce(lambda x,y: x*y,numbers)\n",
    "\n",
    "# Displaying the product\n",
    "print('Product: ',product)"
   ]
  },
  {
   "cell_type": "code",
   "execution_count": null,
   "id": "c5f25f74-84b0-407f-8065-de97d51dc91d",
   "metadata": {},
   "outputs": [],
   "source": []
  },
  {
   "cell_type": "markdown",
   "id": "7ed6449a-229a-415b-9131-c5c6769ea090",
   "metadata": {},
   "source": [
    "# Q5. Write a python program to filter the numbers in a given list that are divisible by 2 and 3 using the filter function. [2, 3, 6, 9, 27, 60, 90, 120, 55, 46]"
   ]
  },
  {
   "cell_type": "code",
   "execution_count": 3,
   "id": "942f8ca3-d720-47c1-bd75-873e97e4c511",
   "metadata": {},
   "outputs": [
    {
     "name": "stdout",
     "output_type": "stream",
     "text": [
      "Numbers divisible by 2 and 3 are:  [6, 60, 90, 120]\n"
     ]
    }
   ],
   "source": [
    "numbers = [2, 3, 6, 9, 27, 60, 90, 120, 55, 46]\n",
    "\n",
    "filtered_nos = list(filter(lambda x:x%2==0 and x%3==0,numbers))\n",
    "\n",
    "print('Numbers divisible by 2 and 3 are: ',filtered_nos)"
   ]
  },
  {
   "cell_type": "code",
   "execution_count": null,
   "id": "9bf873eb-2d75-4f54-b714-f4a57e506d4d",
   "metadata": {},
   "outputs": [],
   "source": []
  },
  {
   "cell_type": "markdown",
   "id": "6197ec88-424b-4ca6-9183-98c1e33fe9e7",
   "metadata": {},
   "source": [
    "# Q6. Write a python program to find palindromes in the given list of strings using lambda and filter function. ['python', 'php', 'aba', 'radar', 'level'] "
   ]
  },
  {
   "cell_type": "code",
   "execution_count": 5,
   "id": "708e7049-2ce7-4b04-bc20-555733fbb3f1",
   "metadata": {},
   "outputs": [
    {
     "name": "stdout",
     "output_type": "stream",
     "text": [
      "Palindromes:  ['php', 'aba', 'radar', 'level']\n"
     ]
    }
   ],
   "source": [
    "# Given list of strings\n",
    "strings = ['python', 'php', 'aba', 'radar', 'level']\n",
    "# Using filter function for finding out the palindromes\n",
    "palindromes = list(filter(lambda x: x==x[::-1],strings))\n",
    "# Diplaying the palindromes\n",
    "print('Palindromes: ',palindromes)"
   ]
  },
  {
   "cell_type": "code",
   "execution_count": null,
   "id": "7188706e-087f-4b1b-979e-9a08f90c71c6",
   "metadata": {},
   "outputs": [],
   "source": []
  }
 ],
 "metadata": {
  "kernelspec": {
   "display_name": "Python 3 (ipykernel)",
   "language": "python",
   "name": "python3"
  },
  "language_info": {
   "codemirror_mode": {
    "name": "ipython",
    "version": 3
   },
   "file_extension": ".py",
   "mimetype": "text/x-python",
   "name": "python",
   "nbconvert_exporter": "python",
   "pygments_lexer": "ipython3",
   "version": "3.10.8"
  }
 },
 "nbformat": 4,
 "nbformat_minor": 5
}
